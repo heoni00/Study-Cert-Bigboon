{
 "cells": [
  {
   "cell_type": "markdown",
   "metadata": {
    "tags": []
   },
   "source": [
    "## 문제 \n",
    "\n",
    "### 주어진 데이터 셋에서 age컬럼 상위 20개의 데이터를 구한 다음 \n",
    "### f1의 결측치를 중앙값으로 채운다.\n",
    "### 그리고 f4가 ISFJ와 f5가 20 이상인 \n",
    "### f1의 평균값을 출력하시오!\n",
    "\n",
    "- 데이터셋 : basic1.csv \n",
    "- 오른쪽 상단 copy&edit 클릭 -> 예상문제 풀이 시작\n",
    "- File -> Editor Type -> Script"
   ]
  },
  {
   "cell_type": "code",
   "execution_count": 1,
   "metadata": {},
   "outputs": [],
   "source": [
    "# import\n",
    "\n",
    "import pandas as pd\n",
    "import numpy as np\n",
    "\n",
    "df = pd.read_csv('data/basic1.csv')"
   ]
  },
  {
   "cell_type": "code",
   "execution_count": 5,
   "metadata": {},
   "outputs": [
    {
     "data": {
      "text/plain": [
       "id       0\n",
       "age      0\n",
       "city     0\n",
       "f1       0\n",
       "f2       0\n",
       "f3      20\n",
       "f4       0\n",
       "f5       0\n",
       "dtype: int64"
      ]
     },
     "execution_count": 5,
     "metadata": {},
     "output_type": "execute_result"
    }
   ],
   "source": [
    "# age 칼럼의 상위 20개 \n",
    "temp = df.sort_values(by = 'age', ascending = False).head(20)\n",
    "temp.f1.fillna(temp.f1.median(), inplace = True)\n",
    "temp.isna().sum()"
   ]
  },
  {
   "cell_type": "code",
   "execution_count": 6,
   "metadata": {},
   "outputs": [
    {
     "name": "stdout",
     "output_type": "stream",
     "text": [
      "73.875\n"
     ]
    }
   ],
   "source": [
    "# 조건 추출\n",
    "\n",
    "cond = temp[ (temp['f4'] == 'ISFJ') & (temp['f5'] >= 20) ]\n",
    "print(cond.f1.mean())"
   ]
  }
 ],
 "metadata": {
  "kernelspec": {
   "display_name": "Python 3 (ipykernel)",
   "language": "python",
   "name": "python3"
  },
  "language_info": {
   "codemirror_mode": {
    "name": "ipython",
    "version": 3
   },
   "file_extension": ".py",
   "mimetype": "text/x-python",
   "name": "python",
   "nbconvert_exporter": "python",
   "pygments_lexer": "ipython3",
   "version": "3.9.0"
  }
 },
 "nbformat": 4,
 "nbformat_minor": 4
}
