{
 "cells": [
  {
   "cell_type": "markdown",
   "metadata": {},
   "source": [
    "### 주어진 데이터 셋에서 f2가 0값인 데이터를 age를 기준으로 오름차순 정렬하고\n",
    "### 앞에서 부터 20개의 데이터를 추출한 후 \n",
    "### f1 결측치(최소값)를 채우기 전과 후의 분산 차이를 계산하시오 (소수점 둘째 자리까지)\n",
    "\n",
    "- 데이터셋 : basic1.csv \n",
    "- 오른쪽 상단 copy&edit 클릭 -> 예상문제 풀이 시작\n",
    "- File -> Editor Type -> Script"
   ]
  },
  {
   "cell_type": "code",
   "execution_count": 2,
   "metadata": {},
   "outputs": [],
   "source": [
    "# import \n",
    "\n",
    "import pandas as pd\n",
    "\n",
    "df = pd.read_csv('data/basic1.csv')"
   ]
  },
  {
   "cell_type": "code",
   "execution_count": 5,
   "metadata": {},
   "outputs": [
    {
     "name": "stdout",
     "output_type": "stream",
     "text": [
      "38.44\n"
     ]
    }
   ],
   "source": [
    "# 데이터 조건 추출 및 정렬 그리고 상위 20개 추출 / 오름차순은 낮은것부터 큰걸로 증가함. \n",
    "\n",
    "temp = df[ df['f2'] == 0 ].sort_values(by = 'age', ascending = True).head(20)\n",
    "\n",
    "# 결측값을 전처리 전 후 데이터 프레임 나누기. \n",
    "\n",
    "before = temp.f1.var()\n",
    "after = temp.f1.fillna(temp.f1.min()).var()\n",
    "\n",
    "# 분산차이 \n",
    "\n",
    "print( round( before - after, 2 ) )"
   ]
  },
  {
   "cell_type": "code",
   "execution_count": 6,
   "metadata": {},
   "outputs": [
    {
     "name": "stdout",
     "output_type": "stream",
     "text": [
      "numpy: 372.9691241335855\n",
      "pandas(ddof=0): 372.9691241335855\n",
      "pandas: 378.4539641943735\n",
      "numpy(ddof=1): 378.4539641943735\n"
     ]
    }
   ],
   "source": [
    "# 추가 설명 판다스와 넘파이 기본값 비교\n",
    "\n",
    "import numpy as np\n",
    "print(\"numpy:\", np.var(df['f1']))\n",
    "print(\"pandas(ddof=0):\",df['f1'].var(ddof=0))\n",
    "\n",
    "print(\"pandas:\",df['f1'].var())\n",
    "print(\"numpy(ddof=1):\", np.var(df['f1'], ddof=1))"
   ]
  }
 ],
 "metadata": {
  "kernelspec": {
   "display_name": "Python 3 (ipykernel)",
   "language": "python",
   "name": "python3"
  },
  "language_info": {
   "codemirror_mode": {
    "name": "ipython",
    "version": 3
   },
   "file_extension": ".py",
   "mimetype": "text/x-python",
   "name": "python",
   "nbconvert_exporter": "python",
   "pygments_lexer": "ipython3",
   "version": "3.9.0"
  }
 },
 "nbformat": 4,
 "nbformat_minor": 4
}
