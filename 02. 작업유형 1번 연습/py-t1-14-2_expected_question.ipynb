{
 "cells": [
  {
   "cell_type": "markdown",
   "metadata": {},
   "source": [
    "## city와 f4를 기준으로 f5의 평균값을 구한 다음, f5를 기준으로 상위 7개 값을 모두 더해 출력하시오 (소수점 둘째자리까지 출력)\n",
    "\n",
    "- 데이터셋 : basic1.csv \n",
    "- 오른쪽 상단 copy&edit 클릭 -> 예상문제 풀이 시작\n",
    "- File -> Editor Type -> Script"
   ]
  },
  {
   "cell_type": "code",
   "execution_count": 12,
   "metadata": {
    "_cell_guid": "549a6b98-82ba-44af-80a4-6c6a53236f01",
    "_uuid": "d40da467-bdfa-4366-80a2-91d51799a164",
    "collapsed": false,
    "jupyter": {
     "outputs_hidden": false
    }
   },
   "outputs": [
    {
     "name": "stdout",
     "output_type": "stream",
     "text": [
      "643.68\n"
     ]
    }
   ],
   "source": [
    "#import \n",
    "\n",
    "import pandas as pd\n",
    "import numpy as np \n",
    "\n",
    "df = pd.read_csv('data/basic1.csv')\n",
    "\n",
    "# 데이터 확인은 필요 없음. \n",
    "\n",
    "# 그룹화 및 평균\n",
    "\n",
    "temp = df.groupby(['city','f4'], as_index = False).mean()['f5']\n",
    "\n",
    "# 상위 7개 추출\n",
    "top = temp.sort_values(ascending = False).head(7)\n",
    "\n",
    "# 더하기. \n",
    "\n",
    "print(round(top.sum(),2))\n"
   ]
  }
 ],
 "metadata": {
  "kernelspec": {
   "display_name": "Python 3 (ipykernel)",
   "language": "python",
   "name": "python3"
  },
  "language_info": {
   "codemirror_mode": {
    "name": "ipython",
    "version": 3
   },
   "file_extension": ".py",
   "mimetype": "text/x-python",
   "name": "python",
   "nbconvert_exporter": "python",
   "pygments_lexer": "ipython3",
   "version": "3.9.0"
  }
 },
 "nbformat": 4,
 "nbformat_minor": 4
}
